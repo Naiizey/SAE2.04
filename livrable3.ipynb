{
 "cells": [
  {
   "cell_type": "code",
   "execution_count": 40,
   "metadata": {},
   "outputs": [
    {
     "name": "stdout",
     "output_type": "stream",
     "text": [
      "     count  Moyenne des moyennes id_module  \\\n",
      "0        1              2.012839     M1101   \n",
      "1        2              0.648834     M1101   \n",
      "2        2              0.090831     M1101   \n",
      "3        5             -0.105503     M1101   \n",
      "4        6             -0.172670     M1101   \n",
      "..     ...                   ...       ...   \n",
      "450     10              0.416333     M1207   \n",
      "451      9              0.411166     M1207   \n",
      "452      1              0.395666     M1207   \n",
      "453      1             -0.053836     M1207   \n",
      "454      4             -0.121003     M1207   \n",
      "\n",
      "                             cat_socio_parent  \n",
      "0      Retraité ancien agriculteur exploitant  \n",
      "1    Retraité  cadre-profession intermediaire  \n",
      "2                              Retraité cadre  \n",
      "3                      Agriculteur exploitant  \n",
      "4                      Commercant et assimile  \n",
      "..                                        ...  \n",
      "450        Employe administratif d'entreprise  \n",
      "451     Ouvriers qualifiés de type industriel  \n",
      "452         Retraité profession intermédiaire  \n",
      "453    Retraité ancien agriculteur exploitant  \n",
      "454                      Ouvrier non qualifie  \n",
      "\n",
      "[455 rows x 4 columns]\n"
     ]
    },
    {
     "ename": "InvalidIndexError",
     "evalue": "(slice(None, None, None), (2, 3))",
     "output_type": "error",
     "traceback": [
      "\u001b[1;31m---------------------------------------------------------------------------\u001b[0m",
      "\u001b[1;31mTypeError\u001b[0m                                 Traceback (most recent call last)",
      "File \u001b[1;32me:\\Python\\3.10.4\\lib\\site-packages\\pandas\\core\\indexes\\base.py:3621\u001b[0m, in \u001b[0;36mIndex.get_loc\u001b[1;34m(self, key, method, tolerance)\u001b[0m\n\u001b[0;32m   3620\u001b[0m \u001b[39mtry\u001b[39;00m:\n\u001b[1;32m-> 3621\u001b[0m     \u001b[39mreturn\u001b[39;00m \u001b[39mself\u001b[39;49m\u001b[39m.\u001b[39;49m_engine\u001b[39m.\u001b[39;49mget_loc(casted_key)\n\u001b[0;32m   3622\u001b[0m \u001b[39mexcept\u001b[39;00m \u001b[39mKeyError\u001b[39;00m \u001b[39mas\u001b[39;00m err:\n",
      "File \u001b[1;32me:\\Python\\3.10.4\\lib\\site-packages\\pandas\\_libs\\index.pyx:136\u001b[0m, in \u001b[0;36mpandas._libs.index.IndexEngine.get_loc\u001b[1;34m()\u001b[0m\n",
      "File \u001b[1;32me:\\Python\\3.10.4\\lib\\site-packages\\pandas\\_libs\\index.pyx:142\u001b[0m, in \u001b[0;36mpandas._libs.index.IndexEngine.get_loc\u001b[1;34m()\u001b[0m\n",
      "\u001b[1;31mTypeError\u001b[0m: '(slice(None, None, None), (2, 3))' is an invalid key",
      "\nDuring handling of the above exception, another exception occurred:\n",
      "\u001b[1;31mInvalidIndexError\u001b[0m                         Traceback (most recent call last)",
      "\u001b[1;32me:\\Cours\\SAE_2.04\\livrable3.ipynb Cell 1'\u001b[0m in \u001b[0;36m<cell line: 66>\u001b[1;34m()\u001b[0m\n\u001b[0;32m     <a href='vscode-notebook-cell:/e%3A/Cours/SAE_2.04/livrable3.ipynb#ch0000001?line=61'>62</a>\u001b[0m tabFin \u001b[39m=\u001b[39m pd\u001b[39m.\u001b[39mconcat([tab1,tab2CR,tab3,tab4],axis\u001b[39m=\u001b[39m\u001b[39m1\u001b[39m)\n\u001b[0;32m     <a href='vscode-notebook-cell:/e%3A/Cours/SAE_2.04/livrable3.ipynb#ch0000001?line=63'>64</a>\u001b[0m \u001b[39mprint\u001b[39m(tabFin)\n\u001b[1;32m---> <a href='vscode-notebook-cell:/e%3A/Cours/SAE_2.04/livrable3.ipynb#ch0000001?line=65'>66</a>\u001b[0m Res \u001b[39m=\u001b[39m KMeans(n_clusters \u001b[39m=\u001b[39m \u001b[39m4\u001b[39m)\u001b[39m.\u001b[39mfit(tabFin[:,(\u001b[39m2\u001b[39;49m,\u001b[39m3\u001b[39;49m)])\n",
      "File \u001b[1;32me:\\Python\\3.10.4\\lib\\site-packages\\pandas\\core\\frame.py:3505\u001b[0m, in \u001b[0;36mDataFrame.__getitem__\u001b[1;34m(self, key)\u001b[0m\n\u001b[0;32m   3503\u001b[0m \u001b[39mif\u001b[39;00m \u001b[39mself\u001b[39m\u001b[39m.\u001b[39mcolumns\u001b[39m.\u001b[39mnlevels \u001b[39m>\u001b[39m \u001b[39m1\u001b[39m:\n\u001b[0;32m   3504\u001b[0m     \u001b[39mreturn\u001b[39;00m \u001b[39mself\u001b[39m\u001b[39m.\u001b[39m_getitem_multilevel(key)\n\u001b[1;32m-> 3505\u001b[0m indexer \u001b[39m=\u001b[39m \u001b[39mself\u001b[39;49m\u001b[39m.\u001b[39;49mcolumns\u001b[39m.\u001b[39;49mget_loc(key)\n\u001b[0;32m   3506\u001b[0m \u001b[39mif\u001b[39;00m is_integer(indexer):\n\u001b[0;32m   3507\u001b[0m     indexer \u001b[39m=\u001b[39m [indexer]\n",
      "File \u001b[1;32me:\\Python\\3.10.4\\lib\\site-packages\\pandas\\core\\indexes\\base.py:3628\u001b[0m, in \u001b[0;36mIndex.get_loc\u001b[1;34m(self, key, method, tolerance)\u001b[0m\n\u001b[0;32m   3623\u001b[0m         \u001b[39mraise\u001b[39;00m \u001b[39mKeyError\u001b[39;00m(key) \u001b[39mfrom\u001b[39;00m \u001b[39merr\u001b[39;00m\n\u001b[0;32m   3624\u001b[0m     \u001b[39mexcept\u001b[39;00m \u001b[39mTypeError\u001b[39;00m:\n\u001b[0;32m   3625\u001b[0m         \u001b[39m# If we have a listlike key, _check_indexing_error will raise\u001b[39;00m\n\u001b[0;32m   3626\u001b[0m         \u001b[39m#  InvalidIndexError. Otherwise we fall through and re-raise\u001b[39;00m\n\u001b[0;32m   3627\u001b[0m         \u001b[39m#  the TypeError.\u001b[39;00m\n\u001b[1;32m-> 3628\u001b[0m         \u001b[39mself\u001b[39;49m\u001b[39m.\u001b[39;49m_check_indexing_error(key)\n\u001b[0;32m   3629\u001b[0m         \u001b[39mraise\u001b[39;00m\n\u001b[0;32m   3631\u001b[0m \u001b[39m# GH#42269\u001b[39;00m\n",
      "File \u001b[1;32me:\\Python\\3.10.4\\lib\\site-packages\\pandas\\core\\indexes\\base.py:5637\u001b[0m, in \u001b[0;36mIndex._check_indexing_error\u001b[1;34m(self, key)\u001b[0m\n\u001b[0;32m   5633\u001b[0m \u001b[39mdef\u001b[39;00m \u001b[39m_check_indexing_error\u001b[39m(\u001b[39mself\u001b[39m, key):\n\u001b[0;32m   5634\u001b[0m     \u001b[39mif\u001b[39;00m \u001b[39mnot\u001b[39;00m is_scalar(key):\n\u001b[0;32m   5635\u001b[0m         \u001b[39m# if key is not a scalar, directly raise an error (the code below\u001b[39;00m\n\u001b[0;32m   5636\u001b[0m         \u001b[39m# would convert to numpy arrays and raise later any way) - GH29926\u001b[39;00m\n\u001b[1;32m-> 5637\u001b[0m         \u001b[39mraise\u001b[39;00m InvalidIndexError(key)\n",
      "\u001b[1;31mInvalidIndexError\u001b[0m: (slice(None, None, None), (2, 3))"
     ]
    }
   ],
   "source": [
    "from sklearn.cluster import KMeans\n",
    "import pandas as pd\n",
    "import numpy as np\n",
    "import numpy.random as rd\n",
    "import warnings\n",
    "\n",
    "datas = pd.read_csv('data.csv',sep=';')\n",
    "\n",
    "tab1 = pd.DataFrame(datas['count'])\n",
    "tab2 = pd.DataFrame(datas['Moyenne des moyennes'])\n",
    "tab3 = pd.DataFrame(datas['id_module'])\n",
    "tab4 = pd.DataFrame(datas['cat_socio_parent'])\n",
    "\n",
    "def Centreduire(tab):\n",
    "    return (tab - np.mean(tab,axis=0))/np.std(tab,axis=0)\n",
    "\n",
    "tab2CR = Centreduire(tab2)\n",
    "\n",
    "def Distance(L1,L2):\n",
    "    #calcule la distance euclidienne entre 2 tableaux lignes de même taille\n",
    "    p=len(L1)\n",
    "    d=0\n",
    "    for i in range(p):\n",
    "        d+=(L1[i]-L2[i])**2\n",
    "    return np.sqrt(d)\n",
    "\n",
    "def Kmoyennes(Tab,N):\n",
    "    (n,p)=Tab.shape\n",
    "    \n",
    "    #Initialisation des centroides avec individus aléatoires de Tab\n",
    "    Centroids=np.zeros((N,p))\n",
    "    rand=rd.randint(n,size=N)\n",
    "    for k in range(N):\n",
    "        Centroids[k]=Tab[rand[k]]\n",
    "    \n",
    "    for I in range(40):\n",
    "        #Création du tableau des numéros de clusters\n",
    "        Labels=np.zeros(n)\n",
    "        Dist_i=np.zeros(N)\n",
    "        for i in range(n):\n",
    "            for k in range(N):\n",
    "                Dist_i[k]=Distance(Tab[i],Centroids[k])\n",
    "            Labels[i]=np.argmin(Dist_i)\n",
    "        \n",
    "        #Calcul des nouveaux centroides\n",
    "        for k in range(N):\n",
    "            Cluster_k=np.array([]).reshape(0,p)  #tableau qui contiendra les individus labellisés k\n",
    "            for i in range(n):\n",
    "                if Labels[i]==k:\n",
    "                    Cluster_k=np.append(Cluster_k,[Tab[i]],axis=0)\n",
    "            #print(Cluster_k)\n",
    "            Centroids[k]=np.mean(Cluster_k,axis=0)\n",
    "            \n",
    "    return Labels, Centroids\n",
    "\n",
    "warnings.filterwarnings(\"ignore\",category=DeprecationWarning)\n",
    "\n",
    "def CoordCluster(X,Y,Num,i):\n",
    "    image = np.where(Num.labels_ == i)\n",
    "    return X[image], Y[image]\n",
    "\n",
    "tabFin = pd.concat([tab1,tab2CR,tab3,tab4],axis=1)\n",
    "\n",
    "print(tabFin)\n",
    "\n",
    "Res = KMeans(n_clusters = 4).fit(tabFin[:,(2,3)])\n"
   ]
  }
 ],
 "metadata": {
  "kernelspec": {
   "display_name": "Python 3.10.4 64-bit (system)",
   "language": "python",
   "name": "python3"
  },
  "language_info": {
   "codemirror_mode": {
    "name": "ipython",
    "version": 3
   },
   "file_extension": ".py",
   "mimetype": "text/x-python",
   "name": "python",
   "nbconvert_exporter": "python",
   "pygments_lexer": "ipython3",
   "version": "3.10.4"
  },
  "orig_nbformat": 4,
  "vscode": {
   "interpreter": {
    "hash": "39390d73c1900cddafc4860a1d2a5210e5a4c6a1095e934c85dd446ea72e5f39"
   }
  }
 },
 "nbformat": 4,
 "nbformat_minor": 2
}
